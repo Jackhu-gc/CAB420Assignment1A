{
 "cells": [
  {
   "cell_type": "code",
   "execution_count": 28,
   "metadata": {},
   "outputs": [],
   "source": [
    "import numpy as np\n",
    "# pandas handles dataframes (exactly the same as tables in Matlab)\n",
    "import pandas as pd\n",
    "# matplotlib emulates Matlabs plotting functionality\n",
    "import matplotlib.pyplot as plt\n",
    "# stats models is a package that is going to perform the regression analysis\n",
    "from statsmodels import api as sm\n",
    "from scipy import stats\n",
    "from sklearn.metrics import mean_squared_error\n",
    "# os allows us to manipulate variables on out local machine, such as paths and environment variables\n",
    "import os\n",
    "# self explainatory, dates and times\n",
    "from datetime import datetime, date\n",
    "# a helper package to help us iterate over objects\n",
    "import itertools\n"
   ]
  },
  {
   "cell_type": "markdown",
   "metadata": {},
   "source": [
    "# Loading and Transforming Data "
   ]
  },
  {
   "cell_type": "code",
   "execution_count": 40,
   "metadata": {},
   "outputs": [
    {
     "name": "stdout",
     "output_type": "stream",
     "text": [
      "Number of ?: 1675 \n",
      "Total number of rows: 1994 \n",
      "Rows containing data: 319\n"
     ]
    }
   ],
   "source": [
    "#Removing whitespaces\n",
    "df.rename(columns=lambda x: x.strip(), inplace=True)\n",
    "df = df.rename(columns=lambda x: x.strip())\n",
    "#counting Questionmarks\n",
    "questionmark_count = df['PctPolicWhite'].value_counts()['?']\n",
    "num_rows, num_cols = df.shape\n",
    "print(\"Number of ?:\", questionmark_count, \"\\nTotal number of rows:\", num_rows, \"\\nRows containing data:\" ,\n",
    "      num_rows - questionmark_count)\n",
    "\n",
    "# Y = wine['ViolentCrimesPerPop']\n",
    "# X_train,X_test, Y_train,  Y_test = train_test_split(X,Y,test_size=0.3, random_state=4)"
   ]
  },
  {
   "cell_type": "markdown",
   "metadata": {},
   "source": []
  }
 ],
 "metadata": {
  "kernelspec": {
   "display_name": "Python 3",
   "language": "python",
   "name": "python3"
  },
  "language_info": {
   "codemirror_mode": {
    "name": "ipython",
    "version": 3
   },
   "file_extension": ".py",
   "mimetype": "text/x-python",
   "name": "python",
   "nbconvert_exporter": "python",
   "pygments_lexer": "ipython3",
   "version": "3.8.2"
  }
 },
 "nbformat": 4,
 "nbformat_minor": 4
}
