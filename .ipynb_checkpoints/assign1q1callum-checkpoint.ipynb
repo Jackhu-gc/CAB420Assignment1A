{
 "cells": [
  {
   "cell_type": "code",
   "execution_count": 42,
   "metadata": {},
   "outputs": [],
   "source": [
    "import numpy as np\n",
    "# pandas handles dataframes (exactly the same as tables in Matlab)\n",
    "import pandas as pd\n",
    "# matplotlib emulates Matlabs plotting functionality\n",
    "import matplotlib.pyplot as plt\n",
    "# stats models is a package that is going to perform the regression analysis\n",
    "from statsmodels import api as sm\n",
    "from scipy import stats\n",
    "from sklearn.metrics import mean_squared_error\n",
    "# os allows us to manipulate variables on out local machine, such as paths and environment variables\n",
    "import os\n",
    "# self explainatory, dates and times\n",
    "from datetime import datetime, date\n",
    "# a helper package to help us iterate over objects\n",
    "import itertools\n",
    "from sklearn.model_selection import train_test_split"
   ]
  },
  {
   "cell_type": "markdown",
   "metadata": {},
   "source": [
    "# Loading and Transforming Data "
   ]
  },
  {
   "cell_type": "code",
   "execution_count": 47,
   "metadata": {},
   "outputs": [
    {
     "name": "stdout",
     "output_type": "stream",
     "text": [
      "    state   county   community   communityname string   fold    population   \\\n",
      "0        8        ?           ?          Lakewoodcity       1          0.19   \n",
      "1       53        ?           ?           Tukwilacity       1          0.00   \n",
      "2       24        ?           ?          Aberdeentown       1          0.00   \n",
      "3       34        5       81440   Willingborotownship       1          0.04   \n",
      "4       42       95        6096     Bethlehemtownship       1          0.01   \n",
      "\n",
      "    householdsize    racepctblack    racePctWhite    racePctAsian   ...  \\\n",
      "0             0.33            0.02            0.90            0.12  ...   \n",
      "1             0.16            0.12            0.74            0.45  ...   \n",
      "2             0.42            0.49            0.56            0.17  ...   \n",
      "3             0.77            1.00            0.08            0.12  ...   \n",
      "4             0.55            0.02            0.95            0.09  ...   \n",
      "\n",
      "    LandArea    PopDens    PctUsePubTrans    PolicCars    PolicOperBudg   \\\n",
      "0        0.12       0.26              0.20         0.06             0.04   \n",
      "1        0.02       0.12              0.45            ?                ?   \n",
      "2        0.01       0.21              0.02            ?                ?   \n",
      "3        0.02       0.39              0.28            ?                ?   \n",
      "4        0.04       0.09              0.02            ?                ?   \n",
      "\n",
      "    LemasPctPolicOnPatr    LemasGangUnitDeploy    LemasPctOfficDrugUn   \\\n",
      "0                    0.9                    0.5                   0.32   \n",
      "1                      ?                      ?                   0.00   \n",
      "2                      ?                      ?                   0.00   \n",
      "3                      ?                      ?                   0.00   \n",
      "4                      ?                      ?                   0.00   \n",
      "\n",
      "    PolicBudgPerPop    ViolentCrimesPerPop   \n",
      "0               0.14                   0.20  \n",
      "1                  ?                   0.67  \n",
      "2                  ?                   0.43  \n",
      "3                  ?                   0.12  \n",
      "4                  ?                   0.03  \n",
      "\n",
      "[5 rows x 128 columns]\n",
      "Number of ?: 1675 \n",
      "Total number of rows: 1994 \n",
      "Rows containing data: 319\n"
     ]
    }
   ],
   "source": [
    "#Loading data\n",
    "communitydata = pd.read_csv(r'C:\\Users\\Callum\\Documents\\cab420-assignment1a\\CAB420Assignment1A\\communities.csv')\n",
    "print(communitydata.head())\n",
    "#Removing whitespaces\n",
    "communitydata.rename(columns=lambda x: x.strip(), inplace=True)\n",
    "communitydata = communitydata.rename(columns=lambda x: x.strip())\n",
    "#counting Questionmarks\n",
    "questionmark_count = communitydata['PctPolicWhite'].value_counts()['?']\n",
    "num_rows, num_cols = communitydata.shape\n",
    "print(\"Number of ?:\", questionmark_count, \"\\nTotal number of rows:\", num_rows, \"\\nRows containing data:\" ,\n",
    "      num_rows - questionmark_count)\n",
    "\n",
    "# Y = wine['ViolentCrimesPerPop']\n",
    "# X_train,X_test, Y_train,  Y_test = train_test_split(X,Y,test_size=0.3, random_state=4)"
   ]
  },
  {
   "cell_type": "markdown",
   "metadata": {},
   "source": [
    "As can be seen there are only 319 rows containing actually data in PctPolicWhite and many other columns. Due to this, we have decided to remove these columns."
   ]
  },
  {
   "cell_type": "code",
   "execution_count": 49,
   "metadata": {},
   "outputs": [
    {
     "name": "stdout",
     "output_type": "stream",
     "text": [
      "Here: OtherPerCap\n",
      "Remaining columns:  ['state', 'communityname string', 'fold', 'population', 'householdsize', 'racepctblack', 'racePctWhite', 'racePctAsian', 'racePctHisp', 'agePct12t21', 'agePct12t29', 'agePct16t24', 'agePct65up', 'numbUrban', 'pctUrban', 'medIncome', 'pctWWage', 'pctWFarmSelf', 'pctWInvInc', 'pctWSocSec', 'pctWPubAsst', 'pctWRetire', 'medFamInc', 'perCapInc', 'whitePerCap', 'blackPerCap', 'indianPerCap', 'AsianPerCap', 'OtherPerCap', 'HispPerCap', 'NumUnderPov', 'PctPopUnderPov', 'PctLess9thGrade', 'PctNotHSGrad', 'PctBSorMore', 'PctUnemployed', 'PctEmploy', 'PctEmplManu', 'PctEmplProfServ', 'PctOccupManu', 'PctOccupMgmtProf', 'MalePctDivorce', 'MalePctNevMarr', 'FemalePctDiv', 'TotalPctDiv', 'PersPerFam', 'PctFam2Par', 'PctKids2Par', 'PctYoungKids2Par', 'PctTeen2Par', 'PctWorkMomYoungKids', 'PctWorkMom', 'NumIlleg', 'PctIlleg', 'NumImmig', 'PctImmigRecent', 'PctImmigRec5', 'PctImmigRec8', 'PctImmigRec10', 'PctRecentImmig', 'PctRecImmig5', 'PctRecImmig8', 'PctRecImmig10', 'PctSpeakEnglOnly', 'PctNotSpeakEnglWell', 'PctLargHouseFam', 'PctLargHouseOccup', 'PersPerOccupHous', 'PersPerOwnOccHous', 'PersPerRentOccHous', 'PctPersOwnOccup', 'PctPersDenseHous', 'PctHousLess3BR', 'MedNumBR', 'HousVacant', 'PctHousOccup', 'PctHousOwnOcc', 'PctVacantBoarded', 'PctVacMore6Mos', 'MedYrHousBuilt', 'PctHousNoPhone', 'PctWOFullPlumb', 'OwnOccLowQuart', 'OwnOccMedVal', 'OwnOccHiQuart', 'RentLowQ', 'RentMedian', 'RentHighQ', 'MedRent', 'MedRentPctHousInc', 'MedOwnCostPctInc', 'MedOwnCostPctIncNoMtg', 'NumInShelters', 'NumStreet', 'PctForeignBorn', 'PctBornSameState', 'PctSameHouse85', 'PctSameCity85', 'PctSameState85', 'LandArea', 'PopDens', 'PctUsePubTrans', 'LemasPctOfficDrugUn', 'ViolentCrimesPerPop']\n"
     ]
    }
   ],
   "source": [
    "#Get all columns\n",
    "column_names = communitydata.columns\n",
    "#Remove columns with 50 or more \"?\"\n",
    "questionmark_count = 0\n",
    "columns_questionmark = []\n",
    "for index, elem in enumerate(column_names):\n",
    "    try:\n",
    "        questionmark_count = communitydata[elem].value_counts()['?']\n",
    "        if(questionmark_count > 0):\n",
    "            del communitydata[elem]\n",
    "        \n",
    "        questionmark_count = 0\n",
    "    except:\n",
    "        pass\n",
    "        \n",
    "column_names = communitydata.columns\n",
    "\n",
    "print(\"Remaining columns: \",list(column_names))"
   ]
  },
  {
   "cell_type": "code",
   "execution_count": 45,
   "metadata": {},
   "outputs": [
    {
     "name": "stdout",
     "output_type": "stream",
     "text": [
      "      state communityname string  fold  population  householdsize  \\\n",
      "1805     19        MasonCitycity    10        0.03           0.31   \n",
      "737      33           Durhamtown     4        0.00           1.00   \n",
      "32        1           Auburncity     1        0.04           0.37   \n",
      "363      41          Newbergcity     2        0.00           0.56   \n",
      "473      37          Hickorycity     3        0.03           0.31   \n",
      "...     ...                  ...   ...         ...            ...   \n",
      "1617      2        Fairbankscity     9        0.03           0.53   \n",
      "775      47          RedBankcity     4        0.00           0.20   \n",
      "818      44  NorthSmithfieldtown     5        0.00           0.52   \n",
      "1053     21          Newportcity     6        0.01           0.41   \n",
      "1420     39         Hamiltoncity     8        0.08           0.39   \n",
      "\n",
      "      racepctblack  racePctWhite  racePctAsian  racePctHisp  agePct12t21  ...  \\\n",
      "1805          0.02          0.96          0.03         0.05         0.42  ...   \n",
      "737           0.01          0.96          0.12         0.01         1.00  ...   \n",
      "32            0.32          0.70          0.21         0.02         1.00  ...   \n",
      "363           0.00          0.95          0.08         0.11         0.51  ...   \n",
      "473           0.33          0.72          0.06         0.01         0.45  ...   \n",
      "...            ...           ...           ...          ...          ...  ...   \n",
      "1617          0.25          0.58          0.20         0.10         0.48  ...   \n",
      "775           0.11          0.90          0.05         0.02         0.35  ...   \n",
      "818           0.00          0.99          0.04         0.01         0.40  ...   \n",
      "1053          0.07          0.94          0.02         0.01         0.45  ...   \n",
      "1420          0.14          0.88          0.02         0.01         0.39  ...   \n",
      "\n",
      "      NumStreet  PctForeignBorn  PctBornSameState  PctSameHouse85  \\\n",
      "1805       0.00            0.03              0.80            0.61   \n",
      "737        0.00            0.13              0.19            0.10   \n",
      "32         0.00            0.12              0.49            0.12   \n",
      "363        0.00            0.13              0.46            0.32   \n",
      "473        0.00            0.05              0.73            0.45   \n",
      "...         ...             ...               ...             ...   \n",
      "1617       0.09            0.14              0.19            0.14   \n",
      "775        0.00            0.04              0.69            0.55   \n",
      "818        0.00            0.12              0.78            0.82   \n",
      "1053       0.01            0.01              0.79            0.49   \n",
      "1420       0.00            0.01              0.75            0.57   \n",
      "\n",
      "      PctSameCity85  PctSameState85  LandArea  PopDens  PctUsePubTrans  \\\n",
      "1805           0.72            0.80      0.07     0.09            0.06   \n",
      "737            0.00            0.00      0.06     0.04            0.14   \n",
      "32             0.00            0.15      0.09     0.09            0.01   \n",
      "363            0.40            0.57      0.01     0.26            0.04   \n",
      "473            0.49            0.53      0.06     0.12            0.02   \n",
      "...             ...             ...       ...      ...             ...   \n",
      "1617           0.15            0.00      0.09     0.08            0.07   \n",
      "775            0.80            0.71      0.02     0.16            0.03   \n",
      "818            0.91            0.81      0.07     0.04            0.06   \n",
      "1053           0.72            0.73      0.01     0.58            0.42   \n",
      "1420           0.85            0.82      0.06     0.26            0.09   \n",
      "\n",
      "      LemasPctOfficDrugUn  \n",
      "1805                  0.0  \n",
      "737                   0.0  \n",
      "32                    0.0  \n",
      "363                   0.0  \n",
      "473                   0.0  \n",
      "...                   ...  \n",
      "1617                  0.0  \n",
      "775                   0.0  \n",
      "818                   0.0  \n",
      "1053                  0.0  \n",
      "1420                  1.0  \n",
      "\n",
      "[1276 rows x 103 columns]\n"
     ]
    }
   ],
   "source": [
    "#Split data into train test validation\n",
    "y = communitydata['ViolentCrimesPerPop']\n",
    "X = communitydata.drop('ViolentCrimesPerPop', axis=1)\n",
    "X_train, X_test, y_train, y_test = train_test_split(X, y, test_size=0.2, random_state=1)\n",
    "\n",
    "X_train, X_val, y_train, y_val = train_test_split(X_train, y_train, test_size=0.2, random_state=1)\n",
    "print(X_train)"
   ]
  },
  {
   "cell_type": "code",
   "execution_count": null,
   "metadata": {},
   "outputs": [],
   "source": []
  }
 ],
 "metadata": {
  "kernelspec": {
   "display_name": "Python 3",
   "language": "python",
   "name": "python3"
  },
  "language_info": {
   "codemirror_mode": {
    "name": "ipython",
    "version": 3
   },
   "file_extension": ".py",
   "mimetype": "text/x-python",
   "name": "python",
   "nbconvert_exporter": "python",
   "pygments_lexer": "ipython3",
   "version": "3.8.2"
  }
 },
 "nbformat": 4,
 "nbformat_minor": 4
}
