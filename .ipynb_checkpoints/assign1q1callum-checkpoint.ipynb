{
 "cells": [
  {
   "cell_type": "code",
   "execution_count": 1,
   "metadata": {},
   "outputs": [],
   "source": [
    "import numpy as np\n",
    "# pandas handles dataframes (exactly the same as tables in Matlab)\n",
    "import pandas as pd\n",
    "# matplotlib emulates Matlabs plotting functionality\n",
    "import matplotlib.pyplot as plt\n",
    "# stats models is a package that is going to perform the regression analysis\n",
    "from statsmodels import api as sm\n",
    "from scipy import stats\n",
    "from sklearn.metrics import mean_squared_error, r2_score\n",
    "\n",
    "# os allows us to manipulate variables on out local machine, such as paths and environment variables\n",
    "import os\n",
    "# self explainatory, dates and times\n",
    "from datetime import datetime, date\n",
    "# a helper package to help us iterate over objects\n",
    "import itertools\n",
    "from sklearn.model_selection import train_test_split\n",
    "from sklearn import preprocessing\n"
   ]
  },
  {
   "cell_type": "markdown",
   "metadata": {},
   "source": [
    "# Loading and Transforming Data "
   ]
  },
  {
   "cell_type": "code",
   "execution_count": 2,
   "metadata": {},
   "outputs": [
    {
     "name": "stdout",
     "output_type": "stream",
     "text": [
      "    state   county   community   communityname string   fold    population   \\\n",
      "0        8        ?           ?          Lakewoodcity       1          0.19   \n",
      "1       53        ?           ?           Tukwilacity       1          0.00   \n",
      "2       24        ?           ?          Aberdeentown       1          0.00   \n",
      "3       34        5       81440   Willingborotownship       1          0.04   \n",
      "4       42       95        6096     Bethlehemtownship       1          0.01   \n",
      "\n",
      "    householdsize    racepctblack    racePctWhite    racePctAsian   ...  \\\n",
      "0             0.33            0.02            0.90            0.12  ...   \n",
      "1             0.16            0.12            0.74            0.45  ...   \n",
      "2             0.42            0.49            0.56            0.17  ...   \n",
      "3             0.77            1.00            0.08            0.12  ...   \n",
      "4             0.55            0.02            0.95            0.09  ...   \n",
      "\n",
      "    LandArea    PopDens    PctUsePubTrans    PolicCars    PolicOperBudg   \\\n",
      "0        0.12       0.26              0.20         0.06             0.04   \n",
      "1        0.02       0.12              0.45            ?                ?   \n",
      "2        0.01       0.21              0.02            ?                ?   \n",
      "3        0.02       0.39              0.28            ?                ?   \n",
      "4        0.04       0.09              0.02            ?                ?   \n",
      "\n",
      "    LemasPctPolicOnPatr    LemasGangUnitDeploy    LemasPctOfficDrugUn   \\\n",
      "0                    0.9                    0.5                   0.32   \n",
      "1                      ?                      ?                   0.00   \n",
      "2                      ?                      ?                   0.00   \n",
      "3                      ?                      ?                   0.00   \n",
      "4                      ?                      ?                   0.00   \n",
      "\n",
      "    PolicBudgPerPop    ViolentCrimesPerPop   \n",
      "0               0.14                   0.20  \n",
      "1                  ?                   0.67  \n",
      "2                  ?                   0.43  \n",
      "3                  ?                   0.12  \n",
      "4                  ?                   0.03  \n",
      "\n",
      "[5 rows x 128 columns]\n",
      "Number of ?: 1675 \n",
      "Total number of rows: 1994 \n",
      "Rows containing data: 319\n"
     ]
    }
   ],
   "source": [
    "#Loading data\n",
    "communitydata = pd.read_csv(r'C:\\Users\\Callum\\Documents\\cab420-assignment1a\\CAB420Assignment1A\\communities.csv')\n",
    "print(communitydata.head())\n",
    "#Removing whitespaces\n",
    "communitydata.rename(columns=lambda x: x.strip(), inplace=True)\n",
    "communitydata = communitydata.rename(columns=lambda x: x.strip())\n",
    "#counting Questionmarks\n",
    "questionmark_count = communitydata['PctPolicWhite'].value_counts()['?']\n",
    "num_rows, num_cols = communitydata.shape\n",
    "print(\"Number of ?:\", questionmark_count, \"\\nTotal number of rows:\", num_rows, \"\\nRows containing data:\" ,\n",
    "      num_rows - questionmark_count)\n",
    "\n",
    "# Y = wine['ViolentCrimesPerPop']\n",
    "# X_train,X_test, Y_train,  Y_test = train_test_split(X,Y,test_size=0.3, random_state=4)"
   ]
  },
  {
   "cell_type": "markdown",
   "metadata": {},
   "source": [
    "As can be seen there are only 319 rows containing actually data in PctPolicWhite and many other columns. Due to this, we have decided to remove these columns."
   ]
  },
  {
   "cell_type": "code",
   "execution_count": 3,
   "metadata": {},
   "outputs": [
    {
     "name": "stdout",
     "output_type": "stream",
     "text": [
      "Remaining columns:  ['population', 'householdsize', 'racepctblack', 'racePctWhite', 'racePctAsian', 'racePctHisp', 'agePct12t21', 'agePct12t29', 'agePct16t24', 'agePct65up', 'numbUrban', 'pctUrban', 'medIncome', 'pctWWage', 'pctWFarmSelf', 'pctWInvInc', 'pctWSocSec', 'pctWPubAsst', 'pctWRetire', 'medFamInc', 'perCapInc', 'whitePerCap', 'blackPerCap', 'indianPerCap', 'AsianPerCap', 'OtherPerCap', 'HispPerCap', 'NumUnderPov', 'PctPopUnderPov', 'PctLess9thGrade', 'PctNotHSGrad', 'PctBSorMore', 'PctUnemployed', 'PctEmploy', 'PctEmplManu', 'PctEmplProfServ', 'PctOccupManu', 'PctOccupMgmtProf', 'MalePctDivorce', 'MalePctNevMarr', 'FemalePctDiv', 'TotalPctDiv', 'PersPerFam', 'PctFam2Par', 'PctKids2Par', 'PctYoungKids2Par', 'PctTeen2Par', 'PctWorkMomYoungKids', 'PctWorkMom', 'NumIlleg', 'PctIlleg', 'NumImmig', 'PctImmigRecent', 'PctImmigRec5', 'PctImmigRec8', 'PctImmigRec10', 'PctRecentImmig', 'PctRecImmig5', 'PctRecImmig8', 'PctRecImmig10', 'PctSpeakEnglOnly', 'PctNotSpeakEnglWell', 'PctLargHouseFam', 'PctLargHouseOccup', 'PersPerOccupHous', 'PersPerOwnOccHous', 'PersPerRentOccHous', 'PctPersOwnOccup', 'PctPersDenseHous', 'PctHousLess3BR', 'MedNumBR', 'HousVacant', 'PctHousOccup', 'PctHousOwnOcc', 'PctVacantBoarded', 'PctVacMore6Mos', 'MedYrHousBuilt', 'PctHousNoPhone', 'PctWOFullPlumb', 'OwnOccLowQuart', 'OwnOccMedVal', 'OwnOccHiQuart', 'RentLowQ', 'RentMedian', 'RentHighQ', 'MedRent', 'MedRentPctHousInc', 'MedOwnCostPctInc', 'MedOwnCostPctIncNoMtg', 'NumInShelters', 'NumStreet', 'PctForeignBorn', 'PctBornSameState', 'PctSameHouse85', 'PctSameCity85', 'PctSameState85', 'LemasSwornFT', 'LemasSwFTPerPop', 'LemasSwFTFieldOps', 'LemasSwFTFieldPerPop', 'LemasTotalReq', 'LemasTotReqPerPop', 'PolicReqPerOffic', 'PolicPerPop', 'RacialMatchCommPol', 'PctPolicWhite', 'PctPolicBlack', 'PctPolicHisp', 'PctPolicAsian', 'PctPolicMinor', 'OfficAssgnDrugUnits', 'NumKindsDrugsSeiz', 'PolicAveOTWorked', 'LandArea', 'PopDens', 'PctUsePubTrans', 'PolicCars', 'PolicOperBudg', 'LemasPctPolicOnPatr', 'LemasGangUnitDeploy', 'LemasPctOfficDrugUn', 'PolicBudgPerPop', 'ViolentCrimesPerPop']\n"
     ]
    }
   ],
   "source": [
    "#Get all columns\n",
    "column_names = communitydata.columns\n",
    "#Remove columns with \"?\"\n",
    "questionmark_count = 0\n",
    "\n",
    "communitydata = communitydata.drop(columns=['fold', 'state', 'communityname string', 'community', 'county'])\n",
    "column_names = communitydata.columns\n",
    "column_with_lessthan_fifty_questionmarks = []\n",
    "\n",
    "print(\"Remaining columns: \",list(column_names))\n",
    "for index, elem in enumerate(column_names):\n",
    "    try:\n",
    "        questionmark_count = communitydata[elem].value_counts()['?']\n",
    "        #need to look at this, some with only 50 ?\n",
    "        #Check column of question marks, if it is greater than 50, remove whole column\n",
    "        if(questionmark_count > 50):\n",
    "            \n",
    "            del communitydata[elem]\n",
    "        elif(questionmark_count <=50 or questionmark_count > 0):\n",
    "            column_with_lessthan_fifty_questionmarks.append(elem)\n",
    "            \n",
    "    except:\n",
    "        pass\n",
    "        \n",
    "column_names = communitydata.columns\n",
    "# print(len(column_names))\n",
    "\n"
   ]
  },
  {
   "cell_type": "code",
   "execution_count": 4,
   "metadata": {},
   "outputs": [
    {
     "name": "stdout",
     "output_type": "stream",
     "text": [
      "['OtherPerCap']\n"
     ]
    }
   ],
   "source": [
    "#print out all columns with less than 50 '?'\n",
    "print(column_with_lessthan_fifty_questionmarks)"
   ]
  },
  {
   "cell_type": "code",
   "execution_count": 5,
   "metadata": {},
   "outputs": [],
   "source": [
    "# remove the rows that are afflicted by columns less than 50 '?'\n",
    "communitydata = communitydata[communitydata.OtherPerCap != '?']"
   ]
  },
  {
   "cell_type": "code",
   "execution_count": 6,
   "metadata": {},
   "outputs": [
    {
     "name": "stdout",
     "output_type": "stream",
     "text": [
      "Model 1 RMSE = 0.14117668570708608\n",
      "                            OLS Regression Results                            \n",
      "==============================================================================\n",
      "Dep. Variable:                      y   R-squared:                       0.717\n",
      "Model:                            OLS   Adj. R-squared:                  0.691\n",
      "Method:                 Least Squares   F-statistic:                     27.67\n",
      "Date:                Thu, 26 Mar 2020   Prob (F-statistic):          4.48e-235\n",
      "Time:                        22:34:49   Log-Likelihood:                 802.63\n",
      "No. Observations:                1195   AIC:                            -1403.\n",
      "Df Residuals:                    1094   BIC:                            -889.6\n",
      "Df Model:                         100                                         \n",
      "Covariance Type:            nonrobust                                         \n",
      "==============================================================================\n",
      "                 coef    std err          t      P>|t|      [0.025      0.975]\n",
      "------------------------------------------------------------------------------\n",
      "const          0.3529      0.254      1.391      0.165      -0.145       0.851\n",
      "x1             0.4886      0.532      0.918      0.359      -0.555       1.533\n",
      "x2             0.0665      0.111      0.597      0.550      -0.152       0.285\n",
      "x3             0.1934      0.066      2.916      0.004       0.063       0.324\n",
      "x4            -0.0460      0.077     -0.597      0.551      -0.197       0.105\n",
      "x5             0.0359      0.046      0.786      0.432      -0.054       0.125\n",
      "x6             0.0098      0.072      0.137      0.891      -0.131       0.151\n",
      "x7             0.1637      0.138      1.188      0.235      -0.107       0.434\n",
      "x8            -0.1935      0.205     -0.942      0.347      -0.597       0.210\n",
      "x9            -0.1433      0.218     -0.657      0.511      -0.571       0.285\n",
      "x10            0.1909      0.132      1.442      0.150      -0.069       0.451\n",
      "x11           -0.5610      0.519     -1.080      0.280      -1.580       0.458\n",
      "x12            0.0534      0.021      2.590      0.010       0.013       0.094\n",
      "x13           -0.3041      0.225     -1.352      0.177      -0.745       0.137\n",
      "x14           -0.2335      0.119     -1.955      0.051      -0.468       0.001\n",
      "x15            0.0387      0.026      1.508      0.132      -0.012       0.089\n",
      "x16           -0.1602      0.086     -1.870      0.062      -0.328       0.008\n",
      "x17            0.0348      0.139      0.250      0.803      -0.239       0.309\n",
      "x18            0.0372      0.061      0.615      0.539      -0.082       0.156\n",
      "x19           -0.0874      0.048     -1.830      0.068      -0.181       0.006\n",
      "x20            0.3741      0.212      1.763      0.078      -0.042       0.791\n",
      "x21            0.2441      0.240      1.019      0.309      -0.226       0.714\n",
      "x22           -0.4745      0.199     -2.389      0.017      -0.864      -0.085\n",
      "x23           -0.0262      0.032     -0.825      0.410      -0.089       0.036\n",
      "x24           -0.0304      0.025     -1.231      0.218      -0.079       0.018\n",
      "x25            0.0483      0.025      1.939      0.053      -0.001       0.097\n",
      "x26            0.0379      0.024      1.548      0.122      -0.010       0.086\n",
      "x27            0.0435      0.033      1.332      0.183      -0.021       0.107\n",
      "x28           -0.0691      0.173     -0.398      0.690      -0.409       0.271\n",
      "x29           -0.1702      0.079     -2.146      0.032      -0.326      -0.015\n",
      "x30            0.0141      0.090      0.156      0.876      -0.163       0.191\n",
      "x31           -0.0981      0.125     -0.785      0.433      -0.343       0.147\n",
      "x32           -0.0354      0.101     -0.349      0.727      -0.234       0.163\n",
      "x33            0.0385      0.053      0.726      0.468      -0.065       0.142\n",
      "x34            0.4102      0.100      4.086      0.000       0.213       0.607\n",
      "x35           -0.0363      0.042     -0.862      0.389      -0.119       0.046\n",
      "x36           -0.0294      0.053     -0.556      0.578      -0.133       0.074\n",
      "x37            0.0320      0.070      0.458      0.647      -0.105       0.169\n",
      "x38            0.1505      0.114      1.323      0.186      -0.073       0.374\n",
      "x39            0.1946      0.301      0.647      0.518      -0.396       0.785\n",
      "x40            0.2041      0.093      2.197      0.028       0.022       0.386\n",
      "x41           -0.1746      0.371     -0.471      0.638      -0.902       0.553\n",
      "x42           -0.0189      0.622     -0.030      0.976      -1.239       1.201\n",
      "x43           -0.0700      0.213     -0.329      0.742      -0.488       0.348\n",
      "x44           -0.0581      0.203     -0.286      0.775      -0.457       0.340\n",
      "x45           -0.3083      0.194     -1.587      0.113      -0.689       0.073\n",
      "x46            0.0327      0.062      0.528      0.597      -0.089       0.154\n",
      "x47           -0.0044      0.055     -0.080      0.937      -0.112       0.103\n",
      "x48            0.0239      0.061      0.394      0.694      -0.095       0.143\n",
      "x49           -0.1801      0.070     -2.579      0.010      -0.317      -0.043\n",
      "x50           -0.1977      0.146     -1.353      0.176      -0.484       0.089\n",
      "x51            0.2392      0.062      3.838      0.000       0.117       0.361\n",
      "x52           -0.1120      0.103     -1.084      0.279      -0.315       0.091\n",
      "x53           -0.0407      0.054     -0.752      0.452      -0.147       0.065\n",
      "x54            0.1371      0.084      1.636      0.102      -0.027       0.301\n",
      "x55           -0.0521      0.099     -0.529      0.597      -0.246       0.141\n",
      "x56            0.0380      0.080      0.477      0.633      -0.118       0.194\n",
      "x57            0.0848      0.169      0.503      0.615      -0.246       0.415\n",
      "x58           -0.1923      0.305     -0.630      0.529      -0.791       0.406\n",
      "x59            0.0138      0.344      0.040      0.968      -0.661       0.688\n",
      "x60            0.0328      0.282      0.116      0.907      -0.521       0.586\n",
      "x61           -0.1012      0.093     -1.090      0.276      -0.283       0.081\n",
      "x62           -0.2136      0.093     -2.301      0.022      -0.396      -0.031\n",
      "x63           -0.2227      0.286     -0.778      0.437      -0.785       0.339\n",
      "x64           -0.0027      0.301     -0.009      0.993      -0.593       0.588\n",
      "x65            0.6974      0.324      2.155      0.031       0.062       1.332\n",
      "x66           -0.3769      0.225     -1.672      0.095      -0.819       0.065\n",
      "x67           -0.1007      0.105     -0.955      0.340      -0.308       0.106\n",
      "x68            0.2046      0.475      0.430      0.667      -0.728       1.137\n",
      "x69            0.3994      0.106      3.774      0.000       0.192       0.607\n",
      "x70            0.1261      0.078      1.619      0.106      -0.027       0.279\n",
      "x71            0.0609      0.025      2.407      0.016       0.011       0.111\n",
      "x72            0.3319      0.101      3.272      0.001       0.133       0.531\n",
      "x73            0.0172      0.040      0.434      0.664      -0.060       0.095\n",
      "x74           -0.2198      0.499     -0.440      0.660      -1.199       0.760\n",
      "x75            0.0543      0.028      1.974      0.049       0.000       0.108\n",
      "x76           -0.0530      0.032     -1.635      0.102      -0.117       0.011\n",
      "x77           -0.0435      0.038     -1.159      0.247      -0.117       0.030\n",
      "x78            0.0170      0.046      0.369      0.712      -0.073       0.107\n",
      "x79           -0.0013      0.026     -0.050      0.960      -0.052       0.049\n",
      "x80           -0.1003      0.258     -0.389      0.697      -0.606       0.405\n",
      "x81           -0.0734      0.391     -0.188      0.851      -0.840       0.693\n",
      "x82            0.0996      0.218      0.458      0.647      -0.327       0.527\n",
      "x83           -0.2398      0.088     -2.727      0.007      -0.412      -0.067\n",
      "x84            0.0773      0.206      0.376      0.707      -0.326       0.481\n",
      "x85           -0.0643      0.114     -0.564      0.573      -0.288       0.159\n",
      "x86            0.2835      0.165      1.719      0.086      -0.040       0.607\n",
      "x87            0.0409      0.042      0.964      0.335      -0.042       0.124\n",
      "x88           -0.0178      0.045     -0.393      0.694      -0.107       0.071\n",
      "x89           -0.0857      0.032     -2.707      0.007      -0.148      -0.024\n",
      "x90            0.2157      0.086      2.494      0.013       0.046       0.385\n",
      "x91            0.2581      0.063      4.092      0.000       0.134       0.382\n",
      "x92            0.0760      0.115      0.663      0.508      -0.149       0.301\n",
      "x93            0.0074      0.054      0.138      0.890      -0.098       0.113\n",
      "x94           -0.0150      0.076     -0.198      0.843      -0.164       0.134\n",
      "x95           -0.0130      0.047     -0.276      0.782      -0.105       0.079\n",
      "x96           -0.0180      0.055     -0.325      0.745      -0.127       0.091\n",
      "x97           -0.0781      0.063     -1.236      0.217      -0.202       0.046\n",
      "x98           -0.0317      0.040     -0.800      0.424      -0.109       0.046\n",
      "x99           -0.0554      0.030     -1.843      0.066      -0.114       0.004\n",
      "x100           0.0292      0.020      1.461      0.144      -0.010       0.068\n",
      "==============================================================================\n",
      "Omnibus:                      215.027   Durbin-Watson:                   2.110\n",
      "Prob(Omnibus):                  0.000   Jarque-Bera (JB):              638.481\n",
      "Skew:                           0.904   Prob(JB):                    2.27e-139\n",
      "Kurtosis:                       6.091   Cond. No.                         875.\n",
      "==============================================================================\n",
      "\n",
      "Warnings:\n",
      "[1] Standard Errors assume that the covariance matrix of the errors is correctly specified.\n",
      "[ 0.35291002  0.48861496  0.06649189  0.19342683 -0.04603681  0.03585552\n",
      "  0.00980509  0.16365004 -0.19349289 -0.14333964  0.19088156 -0.56098257\n",
      "  0.05341317 -0.30413031 -0.23352949  0.03865736 -0.16024078  0.0348414\n",
      "  0.03719757 -0.08744931  0.37412137  0.24411389 -0.47449154 -0.02620437\n",
      " -0.03038037  0.04826634  0.03790727  0.04346039 -0.06905887 -0.1701771\n",
      "  0.01409326 -0.09808868 -0.03536311  0.03848905  0.41015177 -0.03625198\n",
      " -0.02943809  0.03199488  0.15053663  0.19464425  0.20413729 -0.17464716\n",
      " -0.01887395 -0.0700034  -0.05810666 -0.30827036  0.03272147 -0.0043784\n",
      "  0.0238689  -0.18011253 -0.19773642  0.23917573 -0.11204449 -0.04070984\n",
      "  0.13707899 -0.0521222   0.03797517  0.0847848  -0.19231242  0.01377599\n",
      "  0.03279117 -0.10116434 -0.21359136 -0.22269937 -0.00272692  0.69735189\n",
      " -0.37689528 -0.10073787  0.20461404  0.39939867  0.12612525  0.06091446\n",
      "  0.33193307  0.01715852 -0.21981436  0.05430369 -0.05296739 -0.04353464\n",
      "  0.01700816 -0.00127419 -0.10026087 -0.07338971  0.09963465 -0.23975107\n",
      "  0.07726093 -0.06433135  0.28353365  0.04085007 -0.01782167 -0.08567685\n",
      "  0.215676    0.25812746  0.07598156  0.00742065 -0.01497444 -0.01297236\n",
      " -0.0180253  -0.07808373 -0.03171084 -0.05538732  0.02915419]\n"
     ]
    },
    {
     "data": {
      "image/png": "[encoded data removed]",
      "text/plain": [
       "<Figure size 576x432 with 1 Axes>"
      ]
     },
     "metadata": {
      "needs_background": "light"
     },
     "output_type": "display_data"
    }
   ],
   "source": [
    "#Split data into train test validation\n",
    "# Reference - 60%, 20%, 20% Split for test, val, train\n",
    "y = communitydata['ViolentCrimesPerPop']\n",
    "X = communitydata.drop('ViolentCrimesPerPop', axis=1)\n",
    "\n",
    "def trainingdata (predictors, predictionColumn):\n",
    "    X_train, X_test, y_train, y_test = train_test_split(predictors, predictionColumn, test_size=0.2, random_state=1)\n",
    "    X_train, X_val, y_train, Y_val = train_test_split(X_train, y_train, test_size=0.25, random_state=1)\n",
    "\n",
    "    # Casting to Array type\n",
    "    y_train = np.array(y_train, dtype=np.float64)\n",
    "    X_train = np.array(X_train, dtype=np.float64)\n",
    "    Y_val = np.array(Y_val, dtype=np.float64)\n",
    "    X_val = np.array(X_val, dtype=np.float64)\n",
    "    # Adding constants to the model\n",
    "    X_val = sm.add_constant(X_val)\n",
    "    X_train = sm.add_constant(X_train)\n",
    "    model = sm.OLS(y_train, X_train)\n",
    "    # fit the model without any regularisation\n",
    "    model_1_fit = model.fit()\n",
    "    pred = model_1_fit.predict(X_val)\n",
    "    print('Model 1 RMSE = {}'.format(\n",
    "    np.sqrt(mean_squared_error(Y_val, model_1_fit.predict(X_val)))))\n",
    "    print(model_1_fit.summary())\n",
    "    print(model_1_fit.params)\n",
    "    fig, ax = plt.subplots(figsize=(8,6))\n",
    "    sm.qqplot(model_1_fit.resid, ax=ax, line='s')\n",
    "    plt.title('Q-Q Plot for Linear Regression')\n",
    "    plt.show()\n",
    "trainingdata(X, y)"
   ]
  },
  {
   "cell_type": "code",
   "execution_count": 7,
   "metadata": {},
   "outputs": [
    {
     "data": {
      "text/plain": [
       "<matplotlib.colorbar.Colorbar at 0x12df2298>"
      ]
     },
     "execution_count": 7,
     "metadata": {},
     "output_type": "execute_result"
    },
    {
     "data": {
      "text/plain": [
       "<Figure size 432x288 with 0 Axes>"
      ]
     },
     "metadata": {},
     "output_type": "display_data"
    },
    {
     "data": {
      "image/png": "[encoded data removed]",
      "text/plain": [
       "<Figure size 288x288 with 2 Axes>"
      ]
     },
     "metadata": {
      "needs_background": "light"
     },
     "output_type": "display_data"
    }
   ],
   "source": [
    "# Show the correlation between the Coefficients\n",
    "def getcorr (columns):\n",
    "    corr_coeffs = communitydata[columns].corr()\n",
    "    return corr_coeffs\n",
    "new_corr = getcorr(communitydata.columns)\n",
    "plt.figure()\n",
    "plt.matshow(new_corr)\n",
    "plt.colorbar()"
   ]
  },
  {
   "cell_type": "code",
   "execution_count": 8,
   "metadata": {},
   "outputs": [],
   "source": [
    "def removehighcorrVar (corr_coeffs, data_columns):\n",
    "    columns = np.full((corr_coeffs.shape[0],), True, dtype=bool)\n",
    "    for i in range(corr_coeffs.shape[0]):\n",
    "        for j in range(i+1, corr_coeffs.shape[0]):\n",
    "            if corr_coeffs.iloc[i,j] >= 0.9:\n",
    "                if columns[j]:\n",
    "                    columns[j] = False\n",
    "    selected_columns = data_columns[columns]\n",
    "    return selected_columns\n",
    "new_columns = removehighcorrVar(new_corr, X.columns)"
   ]
  },
  {
   "cell_type": "code",
   "execution_count": 9,
   "metadata": {},
   "outputs": [
    {
     "data": {
      "text/plain": [
       "<matplotlib.colorbar.Colorbar at 0x12b87400>"
      ]
     },
     "execution_count": 9,
     "metadata": {},
     "output_type": "execute_result"
    },
    {
     "data": {
      "text/plain": [
       "<Figure size 432x288 with 0 Axes>"
      ]
     },
     "metadata": {},
     "output_type": "display_data"
    },
    {
     "data": {
      "image/png": "[encoded data removed]",
      "text/plain": [
       "<Figure size 288x288 with 2 Axes>"
      ]
     },
     "metadata": {
      "needs_background": "light"
     },
     "output_type": "display_data"
    }
   ],
   "source": [
    "new_corr = getcorr(new_columns)\n",
    "plt.figure()\n",
    "plt.matshow(new_corr)\n",
    "plt.colorbar()"
   ]
  },
  {
   "cell_type": "code",
   "execution_count": 10,
   "metadata": {},
   "outputs": [
    {
     "name": "stdout",
     "output_type": "stream",
     "text": [
      "Model 1 RMSE = 0.13800293289151652\n",
      "                            OLS Regression Results                            \n",
      "==============================================================================\n",
      "Dep. Variable:                      y   R-squared:                       0.699\n",
      "Model:                            OLS   Adj. R-squared:                  0.681\n",
      "Method:                 Least Squares   F-statistic:                     37.88\n",
      "Date:                Thu, 26 Mar 2020   Prob (F-statistic):          1.97e-244\n",
      "Time:                        22:34:51   Log-Likelihood:                 766.64\n",
      "No. Observations:                1195   AIC:                            -1393.\n",
      "Df Residuals:                    1125   BIC:                            -1037.\n",
      "Df Model:                          69                                         \n",
      "Covariance Type:            nonrobust                                         \n",
      "==============================================================================\n",
      "                 coef    std err          t      P>|t|      [0.025      0.975]\n",
      "------------------------------------------------------------------------------\n",
      "const          0.2058      0.214      0.962      0.336      -0.214       0.626\n",
      "x1            -0.1560      0.161     -0.971      0.332      -0.471       0.159\n",
      "x2             0.0948      0.097      0.975      0.330      -0.096       0.286\n",
      "x3             0.2136      0.063      3.372      0.001       0.089       0.338\n",
      "x4             0.0229      0.071      0.320      0.749      -0.117       0.163\n",
      "x5             0.0281      0.043      0.651      0.515      -0.057       0.113\n",
      "x6             0.0313      0.071      0.444      0.657      -0.107       0.170\n",
      "x7             0.2130      0.081      2.635      0.009       0.054       0.372\n",
      "x8            -0.2096      0.110     -1.897      0.058      -0.426       0.007\n",
      "x9             0.1198      0.095      1.261      0.207      -0.067       0.306\n",
      "x10            0.0365      0.013      2.905      0.004       0.012       0.061\n",
      "x11           -0.0181      0.121     -0.150      0.881      -0.255       0.219\n",
      "x12           -0.1858      0.103     -1.801      0.072      -0.388       0.017\n",
      "x13            0.0150      0.025      0.602      0.547      -0.034       0.064\n",
      "x14           -0.2596      0.080     -3.264      0.001      -0.416      -0.104\n",
      "x15            0.1109      0.057      1.939      0.053      -0.001       0.223\n",
      "x16           -0.0715      0.046     -1.549      0.122      -0.162       0.019\n",
      "x17           -0.0116      0.031     -0.368      0.713      -0.073       0.050\n",
      "x18           -0.0272      0.025     -1.099      0.272      -0.076       0.021\n",
      "x19            0.0524      0.025      2.136      0.033       0.004       0.101\n",
      "x20            0.0398      0.023      1.710      0.088      -0.006       0.085\n",
      "x21            0.0211      0.169      0.125      0.901      -0.311       0.353\n",
      "x22           -0.1331      0.075     -1.776      0.076      -0.280       0.014\n",
      "x23           -0.0273      0.069     -0.398      0.690      -0.162       0.107\n",
      "x24            0.0296      0.094      0.314      0.753      -0.155       0.214\n",
      "x25            0.0213      0.052      0.413      0.680      -0.080       0.123\n",
      "x26            0.2757      0.093      2.978      0.003       0.094       0.457\n",
      "x27           -0.0106      0.030     -0.352      0.725      -0.069       0.048\n",
      "x28           -0.0230      0.052     -0.444      0.657      -0.125       0.079\n",
      "x29            0.0610      0.099      0.614      0.539      -0.134       0.256\n",
      "x30            0.2786      0.125      2.234      0.026       0.034       0.523\n",
      "x31           -0.2309      0.137     -1.681      0.093      -0.500       0.039\n",
      "x32           -0.1064      0.131     -0.813      0.416      -0.363       0.150\n",
      "x33           -0.0457      0.049     -0.939      0.348      -0.141       0.050\n",
      "x34           -0.0802      0.034     -2.378      0.018      -0.146      -0.014\n",
      "x35           -0.2402      0.144     -1.670      0.095      -0.522       0.042\n",
      "x36            0.3133      0.054      5.819      0.000       0.208       0.419\n",
      "x37           -0.0371      0.099     -0.376      0.707      -0.230       0.156\n",
      "x38            0.0617      0.035      1.754      0.080      -0.007       0.131\n",
      "x39           -0.0312      0.101     -0.310      0.757      -0.229       0.166\n",
      "x40           -0.0970      0.091     -1.067      0.286      -0.275       0.081\n",
      "x41           -0.2339      0.091     -2.572      0.010      -0.412      -0.055\n",
      "x42            0.0168      0.160      0.105      0.916      -0.298       0.332\n",
      "x43           -0.1073      0.095     -1.130      0.259      -0.293       0.079\n",
      "x44           -0.5161      0.400     -1.290      0.197      -1.301       0.269\n",
      "x45            0.3347      0.094      3.565      0.000       0.150       0.519\n",
      "x46            0.0821      0.073      1.126      0.261      -0.061       0.225\n",
      "x47            0.0453      0.025      1.805      0.071      -0.004       0.094\n",
      "x48            0.3086      0.085      3.620      0.000       0.141       0.476\n",
      "x49            0.5103      0.417      1.225      0.221      -0.307       1.328\n",
      "x50            0.0653      0.027      2.391      0.017       0.012       0.119\n",
      "x51           -0.0478      0.031     -1.538      0.124      -0.109       0.013\n",
      "x52           -0.0531      0.036     -1.468      0.142      -0.124       0.018\n",
      "x53            0.0031      0.044      0.070      0.944      -0.083       0.089\n",
      "x54           -0.0051      0.026     -0.199      0.842      -0.055       0.045\n",
      "x55           -0.0827      0.056     -1.485      0.138      -0.192       0.027\n",
      "x56            0.0970      0.068      1.422      0.155      -0.037       0.231\n",
      "x57            0.0609      0.040      1.515      0.130      -0.018       0.140\n",
      "x58           -0.0173      0.044     -0.396      0.692      -0.103       0.068\n",
      "x59           -0.0906      0.031     -2.955      0.003      -0.151      -0.030\n",
      "x60            0.3244      0.083      3.900      0.000       0.161       0.488\n",
      "x61            0.0568      0.111      0.511      0.610      -0.161       0.275\n",
      "x62        -9.988e-05      0.053     -0.002      0.998      -0.104       0.104\n",
      "x63            0.0501      0.072      0.699      0.485      -0.091       0.191\n",
      "x64           -0.0008      0.047     -0.017      0.986      -0.092       0.091\n",
      "x65           -0.0129      0.053     -0.241      0.810      -0.118       0.092\n",
      "x66           -0.0178      0.062     -0.287      0.774      -0.139       0.104\n",
      "x67           -0.0168      0.038     -0.437      0.662      -0.092       0.059\n",
      "x68           -0.0486      0.029     -1.670      0.095      -0.106       0.009\n",
      "x69            0.0328      0.020      1.641      0.101      -0.006       0.072\n",
      "==============================================================================\n",
      "Omnibus:                      223.955   Durbin-Watson:                   2.074\n",
      "Prob(Omnibus):                  0.000   Jarque-Bera (JB):              667.635\n",
      "Skew:                           0.939   Prob(JB):                    1.06e-145\n",
      "Kurtosis:                       6.144   Cond. No.                         551.\n",
      "==============================================================================\n",
      "\n",
      "Warnings:\n",
      "[1] Standard Errors assume that the covariance matrix of the errors is correctly specified.\n",
      "[ 2.05763953e-01 -1.55951679e-01  9.47788793e-02  2.13631370e-01\n",
      "  2.28976996e-02  2.80992081e-02  3.13035981e-02  2.13024948e-01\n",
      " -2.09561319e-01  1.19824829e-01  3.64775317e-02 -1.81015611e-02\n",
      " -1.85761243e-01  1.50498925e-02 -2.59588437e-01  1.10885738e-01\n",
      " -7.15061693e-02 -1.15819582e-02 -2.71945657e-02  5.23961096e-02\n",
      "  3.97799479e-02  2.10878569e-02 -1.33141538e-01 -2.73478248e-02\n",
      "  2.96202325e-02  2.12957345e-02  2.75662360e-01 -1.05524616e-02\n",
      " -2.30114353e-02  6.10300978e-02  2.78559038e-01 -2.30928743e-01\n",
      " -1.06383860e-01 -4.57378838e-02 -8.02093428e-02 -2.40202965e-01\n",
      "  3.13324014e-01 -3.70859344e-02  6.16860538e-02 -3.12179276e-02\n",
      " -9.70458759e-02 -2.33939260e-01  1.68299718e-02 -1.07264961e-01\n",
      " -5.16122431e-01  3.34720206e-01  8.20575289e-02  4.52606064e-02\n",
      "  3.08554065e-01  5.10326181e-01  6.52594557e-02 -4.77796994e-02\n",
      " -5.30900837e-02  3.07312941e-03 -5.09915319e-03 -8.27313456e-02\n",
      "  9.69736873e-02  6.08505386e-02 -1.72853177e-02 -9.05997639e-02\n",
      "  3.24373223e-01  5.67745611e-02 -9.98803871e-05  5.01371336e-02\n",
      " -7.96496126e-04 -1.28716432e-02 -1.77842360e-02 -1.67913656e-02\n",
      " -4.86049713e-02  3.27869449e-02]\n"
     ]
    },
    {
     "data": {
      "image/png": "[encoded data removed]",
      "text/plain": [
       "<Figure size 576x432 with 1 Axes>"
      ]
     },
     "metadata": {
      "needs_background": "light"
     },
     "output_type": "display_data"
    }
   ],
   "source": [
    "X = X[new_columns]\n",
    "trainingdata(X, y)"
   ]
  },
  {
   "cell_type": "markdown",
   "metadata": {},
   "source": [
    "# Lasso Regression"
   ]
  },
  {
   "cell_type": "code",
   "execution_count": 11,
   "metadata": {},
   "outputs": [],
   "source": [
    "def standardise(data):\n",
    "  \"\"\" Standardise/Normalise data to have zero mean and unit variance\n",
    "\n",
    "  Args:\n",
    "    data (np.array):\n",
    "      data we want to standardise (usually covariates)\n",
    "\n",
    "    Returns:\n",
    "      Standardised data, mean of data, standard deviation of data\n",
    "  \"\"\"\n",
    "  mu = np.mean(data, axis=0)\n",
    "  sigma = np.std(data, axis=0)\n",
    "\n",
    "  scaled = (preprocessing.scale(data))\n",
    "  return scaled, mu, sigma"
   ]
  },
  {
   "cell_type": "code",
   "execution_count": 12,
   "metadata": {},
   "outputs": [],
   "source": [
    "X_train, X_test, y_train, y_test = train_test_split(X, y, test_size=0.2, random_state=1)\n",
    "X_train, X_val, y_train, Y_val = train_test_split(X_train, y_train, test_size=0.25, random_state=1)\n",
    "y_train = np.array(y_train, dtype=np.float64)\n",
    "X_train = np.array(X_train, dtype=np.float64)\n",
    "Y_val = np.array(Y_val, dtype=np.float64)\n",
    "X_val = np.array(X_val, dtype=np.float64)\n",
    "y_test = np.array(y_test, dtype=np.float64)\n",
    "X_test = np.array(X_test, dtype=np.float64)\n",
    "\n",
    "\n",
    "X_train_std, mu_train, sigma_train = standardise(X_train)\n",
    "Y_train_std, mu_test, sigma_test = standardise(y_train)\n",
    "X_val_std = (X_val - mu_train)/sigma_train\n",
    "Y_val_std = (Y_val - mu_test)/sigma_test\n",
    "X_test_std = (X_test - mu_train)/sigma_train\n",
    "Y_test_std = (y_test - mu_test)/sigma_test"
   ]
  },
  {
   "cell_type": "code",
   "execution_count": 13,
   "metadata": {},
   "outputs": [],
   "source": [
    "def evaluate_regularisation(x_train, y_train, x_val, y_val, x_test, y_test,\n",
    "                            mu_test, sigma_test, alpha_list, L1_L2):\n",
    "  # the L1_L2 variable determines if we will be using ridge or lasso\n",
    "  # Ridge: L1_L2 = 0\n",
    "  # Lasso: L1_L2 = 1\n",
    "  # create the model\n",
    "  model = sm.OLS(y_train, sm.add_constant(x_train))\n",
    "  best_rmse = 10e12\n",
    "  best_alpha = []\n",
    "  rmse_val = []\n",
    "  rmse_train = []\n",
    "  best_coeffs = []\n",
    "  for alpha in alpha_list:\n",
    "    model_cross_fit = model.fit_regularized(alpha=alpha, L1_wt=L1_L2)\n",
    "    train_pred = model_cross_fit.predict(sm.add_constant(x_train))\n",
    "    val_pred = model_cross_fit.predict(sm.add_constant(x_val))\n",
    "    # want to append the rmse value to a list, as will plot all values later on\n",
    "    rmse_train.append(np.sqrt(mean_squared_error(y_train, train_pred)))\n",
    "    rmse_val.append(np.sqrt(mean_squared_error(y_val, val_pred)))\n",
    "    # if this is the model with the lowest RMSE, lets save it\n",
    "    # the [-1] index says get the last value from the list (which is the most recent RMSE)\n",
    "    if rmse_val[-1] < best_rmse:\n",
    "      best_rmse = rmse_val[-1]\n",
    "      best_alpha = alpha\n",
    "      best_coeffs = model_cross_fit.params\n",
    "      \n",
    "  print('Best values on Validation Data set')\n",
    "  print(best_alpha)\n",
    "  model_rescaled = sm.OLS(y_train * sigma_test + mu_test,\n",
    "                          sm.add_constant(x_train* sigma_test + mu_test))\n",
    "  model_best_fit = model_rescaled.fit_regularized(alpha=alpha * sigma_test, L1_wt=1)\n",
    "\n",
    "  # extract the gradient and the bias from the coefficients\n",
    "  # The reshape will make sure the slope is a column vector\n",
    "  slope = np.array(best_coeffs[1:]).reshape(-1, 1)\n",
    "  # the intercept coefficient is the last index variable, which was included with the\n",
    "  # sm.add_constant() method\n",
    "  intercept = best_coeffs[0]\n",
    "  # use the @ operator to perform vector/matrix multiplication\n",
    "  pred_val_rescaled = (x_val @ slope + intercept) * sigma_test + mu_test\n",
    "  pred_train_rescaled = (x_train @ slope + intercept) * sigma_test + mu_test\n",
    "  best_r2 = r_squared(y_train * sigma_test + mu_test, pred_train_rescaled)\n",
    "  best_adj_r2 = adj_r2(y_train * sigma_test + mu_test, pred_train_rescaled,\n",
    "                           x_train.shape[0], x_train.shape[1]) \n",
    "  best_val_rmse = np.sqrt(mean_squared_error(y_val* sigma_test + mu_test, pred_val_rescaled))\n",
    "  print('Best R Squared = {}'.format(best_r2))\n",
    "  print('Best Adjusted = {}'.format(best_adj_r2))\n",
    "  print('Best RMSE (val) = {}'.format(best_val_rmse))\n",
    "  print('Best slope = {}'.format(slope))\n",
    "  print('Best Intercept = {}'.format(intercept))\n",
    "\n",
    "  fig, axs = plt.subplots(3)\n",
    "  axs[0].plot(np.array(alpha_list), rmse_train)\n",
    "  axs[0].plot(np.array(alpha_list), rmse_val)\n",
    "  axs[0].legend(['Training', 'Validation'])\n",
    "  axs[0].set_title('RMSE vs Lambda')\n",
    "  axs[0].set_xlabel('Lambda')\n",
    "  axs[0].set_ylabel('RMSE')    \n",
    "  \n",
    "  axs[1].plot((y_test*sigma_test + mu_test))\n",
    "  axs[1].plot(model_best_fit.predict(sm.add_constant(x_test* sigma_test + mu_test)))\n",
    "  axs[1].legend(['Actual', 'Predicted'])\n",
    "  axs[1].set_title('Test Set Performance')\n",
    "  \n",
    "\n",
    "  train_pred = model_cross_fit.predict(sm.add_constant(x_val))\n",
    "  resid = y_val - train_pred\n",
    "  sm.qqplot(resid, ax=axs[2], line='s')\n",
    "  axs[2].set_title('Q-Q Plot for Linear Regression')"
   ]
  },
  {
   "cell_type": "code",
   "execution_count": 14,
   "metadata": {},
   "outputs": [],
   "source": [
    "def r_squared(actual, predicted):\n",
    "  r2 = r2_score(actual, predicted)\n",
    "  return r2"
   ]
  },
  {
   "cell_type": "code",
   "execution_count": 15,
   "metadata": {},
   "outputs": [],
   "source": [
    "def rmse(actual, pred):\n",
    "  return np.sqrt(mean_squared_error(actual, pred))"
   ]
  },
  {
   "cell_type": "code",
   "execution_count": 16,
   "metadata": {},
   "outputs": [],
   "source": [
    "def adj_r2(actual, predicted, n, p):\n",
    "  r2 = r2_score(actual, predicted)\n",
    "  adjr2 = 1 - (1 - r2) * (n - 1) / (n - p - 1);\n",
    "  return adjr2"
   ]
  },
  {
   "cell_type": "code",
   "execution_count": 17,
   "metadata": {},
   "outputs": [],
   "source": [
    "# alpha_list = np.linspace(0, 1.0, 1000)\n",
    "# evaluate_regularisation(X_train_std, Y_train_std, X_val_std, Y_val_std, X_test_std, Y_test_std,\n",
    "#                         mu_test, sigma_test, alpha_list, 1)"
   ]
  },
  {
   "cell_type": "code",
   "execution_count": 37,
   "metadata": {},
   "outputs": [],
   "source": [
    "#sourced from https://www.kirenz.com/post/2019-08-12-python-lasso-regression-auto/\n",
    "from sklearn.linear_model import Lasso\n",
    "\n",
    "alpha_list = np.linspace(0.00001, 1.0, 1000)\n",
    "l_num = 1000\n",
    "pred_num = X.shape[1]\n",
    "\n",
    "# prepare data for enumerate\n",
    "coeff_a = np.zeros((l_num, pred_num))\n",
    "train_r_squared = np.zeros(l_num)\n",
    "test_r_squared = np.zeros(l_num)\n",
    "for ind, i in enumerate(alpha_list):    \n",
    "    reg = Lasso(alpha = i)\n",
    "    reg.fit(X_train, y_train)\n",
    "\n",
    "    coeff_a[ind,:] = reg.coef_\n",
    "    train_r_squared[ind] = reg.score(X_train, y_train)\n",
    "    test_r_squared[ind] = reg.score(X_test, y_test)"
   ]
  },
  {
   "cell_type": "code",
   "execution_count": 38,
   "metadata": {},
   "outputs": [
    {
     "data": {
      "image/png": "[encoded data removed]",
      "text/plain": [
       "<Figure size 432x288 with 1 Axes>"
      ]
     },
     "metadata": {
      "needs_background": "light"
     },
     "output_type": "display_data"
    }
   ],
   "source": [
    "# Plotting\n",
    "plt.figure()\n",
    "plt.plot(train_r_squared, 'bo-', label=r'$R^2$ Training set', color=\"darkblue\", alpha=0.6, linewidth=3)\n",
    "plt.plot(test_r_squared, 'bo-', label=r'$R^2$ Test set', color=\"darkred\", alpha=0.6, linewidth=3)\n",
    "plt.xlabel('Lamda index'); plt.ylabel(r'$R^2$')\n",
    "plt.title(r'Evaluate lasso regression with lamdas')\n",
    "plt.legend(loc='best')\n",
    "plt.grid()"
   ]
  },
  {
   "cell_type": "code",
   "execution_count": 39,
   "metadata": {},
   "outputs": [
    {
     "data": {
      "text/plain": [
       "R_squared    58.212142\n",
       "lambda        0.001011\n",
       "Name: 1, dtype: float64"
      ]
     },
     "execution_count": 39,
     "metadata": {},
     "output_type": "execute_result"
    }
   ],
   "source": [
    "df_lam = pd.DataFrame(test_r_squared*100, columns=['R_squared'])\n",
    "df_lam['lambda'] = (alpha_list)\n",
    "# returns the index of the row where column has maximum value.\n",
    "df_lam.loc[df_lam['R_squared'].idxmax()]"
   ]
  },
  {
   "cell_type": "code",
   "execution_count": 40,
   "metadata": {},
   "outputs": [
    {
     "data": {
      "text/plain": [
       "array([ 0.        , -0.        ,  0.14489811, -0.09237154,  0.        ,\n",
       "        0.        , -0.        , -0.        ,  0.        ,  0.02861278,\n",
       "       -0.        , -0.04749282, -0.        , -0.        ,  0.06534778,\n",
       "       -0.        , -0.        , -0.        ,  0.01027214,  0.00839611,\n",
       "        0.        ,  0.        ,  0.        , -0.        ,  0.        ,\n",
       "       -0.        , -0.        , -0.        , -0.        ,  0.14718203,\n",
       "        0.        , -0.        , -0.03296046, -0.00885122,  0.        ,\n",
       "        0.28029164,  0.        ,  0.00730282,  0.        , -0.        ,\n",
       "        0.        , -0.        ,  0.        , -0.        ,  0.14553856,\n",
       "        0.        , -0.        ,  0.17282196,  0.        ,  0.0365917 ,\n",
       "       -0.        ,  0.        ,  0.        ,  0.        ,  0.        ,\n",
       "        0.        ,  0.02048362,  0.        , -0.03680526,  0.        ,\n",
       "        0.        , -0.01474722, -0.        ,  0.        , -0.        ,\n",
       "        0.        , -0.        , -0.        ,  0.01388705])"
      ]
     },
     "execution_count": 40,
     "metadata": {},
     "output_type": "execute_result"
    }
   ],
   "source": [
    "# Coefficients of best model\n",
    "reg_best = Lasso(alpha = 0.001011)\n",
    "reg_best.fit(X_train, y_train)\n",
    "reg_best.coef_"
   ]
  },
  {
   "cell_type": "code",
   "execution_count": 41,
   "metadata": {},
   "outputs": [
    {
     "data": {
      "text/plain": [
       "0.021450866240942987"
      ]
     },
     "execution_count": 41,
     "metadata": {},
     "output_type": "execute_result"
    }
   ],
   "source": [
    "from sklearn.metrics import mean_squared_error\n",
    "mean_squared_error(y_test, reg_best.predict(X_test))"
   ]
  },
  {
   "cell_type": "code",
   "execution_count": 42,
   "metadata": {},
   "outputs": [],
   "source": [
    "l_min = 0.05\n",
    "l_max = 0.2\n",
    "l_num = 20\n",
    "lambdas = np.linspace(l_min,l_max, l_num)\n",
    "\n",
    "train_r_squared = np.zeros(l_num)\n",
    "test_r_squared = np.zeros(l_num)\n",
    "\n",
    "pred_num = X.shape[1]\n",
    "coeff_a = np.zeros((l_num, pred_num))"
   ]
  },
  {
   "cell_type": "code",
   "execution_count": 43,
   "metadata": {},
   "outputs": [],
   "source": [
    "train_r_squared = np.zeros(l_num)\n",
    "test_r_squared = np.zeros(l_num)\n",
    "\n",
    "pred_num = X.shape[1]\n",
    "coeff_a = np.zeros((l_num, pred_num))"
   ]
  },
  {
   "cell_type": "code",
   "execution_count": 44,
   "metadata": {},
   "outputs": [],
   "source": [
    "from sklearn.model_selection import cross_val_score\n",
    "\n",
    "for ind, i in enumerate(lambdas):    \n",
    "    reg = Lasso(alpha = i)\n",
    "    reg.fit(X_train, y_train)\n",
    "    results = cross_val_score(reg, X, y, cv=5, scoring=\"r2\")\n",
    "\n",
    "    train_r_squared[ind] = reg.score(X_train, y_train)    \n",
    "    test_r_squared[ind] = reg.score(X_test, y_test)"
   ]
  },
  {
   "cell_type": "code",
   "execution_count": 45,
   "metadata": {},
   "outputs": [
    {
     "data": {
      "image/png": "[encoded data removed]",
      "text/plain": [
       "<Figure size 1296x576 with 1 Axes>"
      ]
     },
     "metadata": {
      "needs_background": "light"
     },
     "output_type": "display_data"
    }
   ],
   "source": [
    "# Plotting\n",
    "plt.figure(figsize=(18, 8))\n",
    "plt.plot(train_r_squared, 'bo-', label=r'$R^2$ Training set', color=\"darkblue\", alpha=0.6, linewidth=3)\n",
    "plt.plot(test_r_squared, 'bo-', label=r'$R^2$ Test set', color=\"darkred\", alpha=0.6, linewidth=3)\n",
    "plt.xlabel('Lamda value'); plt.ylabel(r'$R^2$')\n",
    "plt.xlim(0, 19)\n",
    "plt.title(r'Evaluate 5-fold cv with different lamdas')\n",
    "plt.legend(loc='best')\n",
    "plt.grid()\n"
   ]
  },
  {
   "cell_type": "code",
   "execution_count": 46,
   "metadata": {},
   "outputs": [
    {
     "data": {
      "text/plain": [
       "R_squared   -0.179968\n",
       "lambda       0.050000\n",
       "Name: 0, dtype: float64"
      ]
     },
     "execution_count": 46,
     "metadata": {},
     "output_type": "execute_result"
    }
   ],
   "source": [
    "df_lam = pd.DataFrame(test_r_squared*100, columns=['R_squared'])\n",
    "df_lam['lambda'] = (lambdas)\n",
    "# returns the index of the row where column has maximum value.\n",
    "df_lam.loc[df_lam['R_squared'].idxmax()]"
   ]
  },
  {
   "cell_type": "code",
   "execution_count": 47,
   "metadata": {},
   "outputs": [
    {
     "data": {
      "text/plain": [
       "Lasso(alpha=0.144737, copy_X=True, fit_intercept=True, max_iter=1000,\n",
       "      normalize=False, positive=False, precompute=False, random_state=None,\n",
       "      selection='cyclic', tol=0.0001, warm_start=False)"
      ]
     },
     "execution_count": 47,
     "metadata": {},
     "output_type": "execute_result"
    }
   ],
   "source": [
    "# Best Model\n",
    "reg_best = Lasso(alpha = 0.144737)\n",
    "reg_best.fit(X_train, y_train)"
   ]
  },
  {
   "cell_type": "code",
   "execution_count": 48,
   "metadata": {},
   "outputs": [
    {
     "data": {
      "text/plain": [
       "0.05142514799191393"
      ]
     },
     "execution_count": 48,
     "metadata": {},
     "output_type": "execute_result"
    }
   ],
   "source": [
    "from sklearn.metrics import mean_squared_error\n",
    "\n",
    "mean_squared_error(y_test, reg_best.predict(X_test))"
   ]
  },
  {
   "cell_type": "code",
   "execution_count": null,
   "metadata": {},
   "outputs": [],
   "source": [
    "reg_best.coef_\n"
   ]
  }
 ],
 "metadata": {
  "kernelspec": {
   "display_name": "Python 3",
   "language": "python",
   "name": "python3"
  },
  "language_info": {
   "codemirror_mode": {
    "name": "ipython",
    "version": 3
   },
   "file_extension": ".py",
   "mimetype": "text/x-python",
   "name": "python",
   "nbconvert_exporter": "python",
   "pygments_lexer": "ipython3",
   "version": "3.8.2"
  }
 },
 "nbformat": 4,
 "nbformat_minor": 4
}
