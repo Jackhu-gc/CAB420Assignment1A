{
 "cells": [
  {
   "cell_type": "code",
   "execution_count": 1,
   "metadata": {},
   "outputs": [],
   "source": [
    "import pandas as pd\n",
    "import numpy as np\n",
    "import matplotlib.pyplot as plt\n",
    "from gensim.models import Word2Vec\n",
    "import re\n",
    "import string\n",
    "from sklearn.model_selection import train_test_split\n",
    "from sklearn.neighbors import KNeighborsClassifier\n",
    "from sklearn.metrics import plot_confusion_matrix\n",
    "from sklearn.svm import SVC, NuSVC\n",
    "from sklearn.multiclass import OneVsRestClassifier, OneVsOneClassifier\n",
    "\n",
    "from sklearn.linear_model import LogisticRegression\n",
    "from scipy.stats import norm"
   ]
  },
  {
   "cell_type": "code",
   "execution_count": 2,
   "metadata": {},
   "outputs": [],
   "source": [
    "train_spectral = pd.read_csv(r'C:\\Users\\Callum\\Documents\\cab420-assignment1a\\CAB420Assignment1A\\training.csv')\n",
    "test_spectral = pd.read_csv(r'C:\\Users\\Callum\\Documents\\cab420-assignment1a\\CAB420Assignment1A\\testing.csv')"
   ]
  },
  {
   "cell_type": "code",
   "execution_count": 3,
   "metadata": {
    "scrolled": true
   },
   "outputs": [
    {
     "name": "stdout",
     "output_type": "stream",
     "text": [
      "  class  b1  b2  b3   b4  b5   b6   b7  b8  b9  ...  pred_minus_obs_H_b9  \\\n",
      "0    d   39  36  57   91  59  101   93  27  60  ...                -2.36   \n",
      "1    h   84  30  57  112  51   98   92  26  62  ...                -2.26   \n",
      "2    s   53  25  49   99  51   93   84  26  58  ...                -1.46   \n",
      "3    s   59  26  49  103  47   92   82  25  56  ...                 2.68   \n",
      "4    d   57  49  66  103  64  106  114  28  59  ...                -2.94   \n",
      "\n",
      "   pred_minus_obs_S_b1  pred_minus_obs_S_b2  pred_minus_obs_S_b3  \\\n",
      "0               -18.41                -1.88                -6.43   \n",
      "1               -16.27                -1.95                -6.25   \n",
      "2               -15.92                -1.79                -4.64   \n",
      "3               -13.77                -2.53                -6.34   \n",
      "4               -21.74                -1.64                -4.62   \n",
      "\n",
      "   pred_minus_obs_S_b4  pred_minus_obs_S_b5  pred_minus_obs_S_b6  \\\n",
      "0               -21.03                -1.60                -6.18   \n",
      "1               -18.79                -1.99                -6.18   \n",
      "2               -17.73                -0.48                -4.69   \n",
      "3               -22.03                -2.34                -6.60   \n",
      "4               -23.74                -0.85                -5.50   \n",
      "\n",
      "   pred_minus_obs_S_b7  pred_minus_obs_S_b8  pred_minus_obs_S_b9  \n",
      "0               -22.50                -5.20                -7.86  \n",
      "1               -23.41                -8.87               -10.83  \n",
      "2               -19.97                -4.10                -7.07  \n",
      "3               -27.10                -7.99               -10.81  \n",
      "4               -22.83                -2.74                -5.84  \n",
      "\n",
      "[5 rows x 28 columns]\n"
     ]
    }
   ],
   "source": [
    "print(train_spectral.head())"
   ]
  },
  {
   "cell_type": "code",
   "execution_count": 4,
   "metadata": {},
   "outputs": [
    {
     "name": "stdout",
     "output_type": "stream",
     "text": [
      "  class  b1  b2  b3   b4  b5   b6   b7  b8  b9  ...  pred_minus_obs_H_b9  \\\n",
      "0    d   67  51  68  115  69  111  136  31  67  ...                -9.17   \n",
      "1    s   67  28  51   99  50   97   82  26  59  ...                -2.25   \n",
      "2    s   63  26  50   95  49   91   81  26  57  ...                -0.44   \n",
      "3    d   63  42  63   97  66  108  111  28  59  ...                -2.34   \n",
      "4    s   46  27  50   83  51   90   76  26  56  ...                 1.25   \n",
      "\n",
      "   pred_minus_obs_S_b1  pred_minus_obs_S_b2  pred_minus_obs_S_b3  \\\n",
      "0               -18.27                -1.80                -6.32   \n",
      "1               -20.13                -2.11                -6.35   \n",
      "2               -17.64                -1.81                -4.70   \n",
      "3               -20.20                -1.89                -5.47   \n",
      "4               -18.62                -2.17                -7.11   \n",
      "\n",
      "   pred_minus_obs_S_b4  pred_minus_obs_S_b5  pred_minus_obs_S_b6  \\\n",
      "0               -20.88                -1.63                -6.13   \n",
      "1               -21.94                -1.22                -6.13   \n",
      "2               -19.39                -0.65                -5.01   \n",
      "3               -21.65                -0.99                -5.71   \n",
      "4               -21.12                -1.56                -6.35   \n",
      "\n",
      "   pred_minus_obs_S_b7  pred_minus_obs_S_b8  pred_minus_obs_S_b9  \n",
      "0               -22.56                -5.53                -8.11  \n",
      "1               -22.20                -3.41                -6.57  \n",
      "2               -20.89                -3.96                -6.85  \n",
      "3               -22.19                -3.41                -6.52  \n",
      "4               -22.19                -4.45                -7.32  \n",
      "\n",
      "[5 rows x 28 columns]\n"
     ]
    }
   ],
   "source": [
    "print(test_spectral.head())"
   ]
  },
  {
   "cell_type": "code",
   "execution_count": 41,
   "metadata": {},
   "outputs": [
    {
     "name": "stdout",
     "output_type": "stream",
     "text": [
      "(198,)\n",
      "(198, 27)\n",
      "(32, 27)\n",
      "(32,)\n",
      "(293, 27)\n",
      "(293,)\n"
     ]
    }
   ],
   "source": [
    "test_spectral['class'] = pd.Categorical(test_spectral['class'])\n",
    "train_spectral['class'] = pd.Categorical(train_spectral['class'])\n",
    "\n",
    "predictionColumn_test = test_spectral['class']\n",
    "predictors_test = test_spectral.drop('class', axis=1)\n",
    "\n",
    "Y_train = train_spectral['class']\n",
    "X_train = train_spectral.drop('class', axis=1)\n",
    "\n",
    "X_test, X_val, Y_test, Y_val = train_test_split(predictors_test, predictionColumn_test, test_size=0.9, random_state=1)\n",
    "\n",
    "con_x = pd.concat() \n",
    "\n",
    "print(np.shape(Y_train))\n",
    "print(np.shape(X_train))\n",
    "print(np.shape(X_test))\n",
    "print(np.shape(Y_test))\n",
    "print(np.shape(X_val))\n",
    "print(np.shape(Y_val))\n",
    "\n"
   ]
  },
  {
   "cell_type": "code",
   "execution_count": 65,
   "metadata": {},
   "outputs": [],
   "source": [
    "def eval_model(model, X_train, Y_train, X_test, Y_test, graphs):\n",
    "    if(graphs):\n",
    "        fig = plt.figure(figsize=[25, 8])\n",
    "        ax = fig.add_subplot(1, 2, 1)\n",
    "        conf = plot_confusion_matrix(model, X_train, Y_train, normalize='true', ax=ax)\n",
    "        conf.ax_.set_title('Training Set Performance');\n",
    "        ax = fig.add_subplot(1, 2, 2)\n",
    "        conf = plot_confusion_matrix(model, X_test, Y_test, normalize='true', ax=ax)\n",
    "        conf.ax_.set_title('Validation Test Set Performance');\n",
    "    pred = model.predict(X_test)\n",
    "    return str(sum(pred == Y_test)/len(Y_test))"
   ]
  },
  {
   "cell_type": "code",
   "execution_count": 56,
   "metadata": {},
   "outputs": [
    {
     "name": "stdout",
     "output_type": "stream",
     "text": [
      "0.8122866894197952\n"
     ]
    },
    {
     "data": {
      "image/png": "[encoded data removed]",
      "text/plain": [
       "<Figure size 1800x576 with 4 Axes>"
      ]
     },
     "metadata": {
      "needs_background": "light"
     },
     "output_type": "display_data"
    }
   ],
   "source": [
    "#Make the model\n",
    "cknn = KNeighborsClassifier(n_neighbors=9, weights='distance')\n",
    "cknn.fit(X_train, Y_train)\n",
    "test_accur = eval_model(cknn, X_train, Y_train, X_val, Y_val, True)\n",
    "print(\"Test Accuracy: \", test_accur)"
   ]
  },
  {
   "cell_type": "markdown",
   "metadata": {},
   "source": [
    "Not too bad, this model is using distance weight and n_neighbors is set at 10.\n",
    "We can try to optimize this to find the best combination."
   ]
  },
  {
   "cell_type": "code",
   "execution_count": 72,
   "metadata": {
    "scrolled": true
   },
   "outputs": [
    {
     "name": "stdout",
     "output_type": "stream",
     "text": [
      "{(1, 'Dist'): '0.863481228668942', (1, 'No Dist'): '0.863481228668942', (2, 'Dist'): '0.863481228668942', (2, 'No Dist'): '0.8498293515358362', (3, 'Dist'): '0.8395904436860068', (3, 'No Dist'): '0.8395904436860068', (4, 'Dist'): '0.8532423208191127', (4, 'No Dist'): '0.8395904436860068', (5, 'Dist'): '0.8225255972696246', (5, 'No Dist'): '0.8225255972696246', (6, 'Dist'): '0.825938566552901', (6, 'No Dist'): '0.8225255972696246', (7, 'Dist'): '0.8122866894197952', (7, 'No Dist'): '0.8122866894197952', (8, 'Dist'): '0.8225255972696246', (8, 'No Dist'): '0.8122866894197952', (9, 'Dist'): '0.8122866894197952', (9, 'No Dist'): '0.8122866894197952', (10, 'Dist'): '0.825938566552901', (10, 'No Dist'): '0.8156996587030717', (11, 'Dist'): '0.8122866894197952', (11, 'No Dist'): '0.8122866894197952', (12, 'Dist'): '0.8156996587030717', (12, 'No Dist'): '0.8225255972696246', (13, 'Dist'): '0.8191126279863481', (13, 'No Dist'): '0.8225255972696246', (14, 'Dist'): '0.8191126279863481', (14, 'No Dist'): '0.8191126279863481', (15, 'Dist'): '0.825938566552901', (15, 'No Dist'): '0.8191126279863481', (16, 'Dist'): '0.8225255972696246', (16, 'No Dist'): '0.8225255972696246', (17, 'Dist'): '0.825938566552901', (17, 'No Dist'): '0.8225255972696246', (18, 'Dist'): '0.8225255972696246', (18, 'No Dist'): '0.8225255972696246', (19, 'Dist'): '0.8327645051194539', (19, 'No Dist'): '0.825938566552901', (20, 'Dist'): '0.8293515358361775', (20, 'No Dist'): '0.8225255972696246', (21, 'Dist'): '0.8293515358361775', (21, 'No Dist'): '0.8191126279863481', (22, 'Dist'): '0.825938566552901', (22, 'No Dist'): '0.8225255972696246', (23, 'Dist'): '0.825938566552901', (23, 'No Dist'): '0.8156996587030717', (24, 'Dist'): '0.8225255972696246', (24, 'No Dist'): '0.8191126279863481', (25, 'Dist'): '0.825938566552901', (25, 'No Dist'): '0.8156996587030717'}\n"
     ]
    },
    {
     "data": {
      "text/plain": [
       "(1, 'Dist')"
      ]
     },
     "execution_count": 72,
     "metadata": {},
     "output_type": "execute_result"
    }
   ],
   "source": [
    "test_accuracy = {}\n",
    "for i in range(1, 26):\n",
    "    for x in range(0,2):\n",
    "        if(x == 0):\n",
    "            cknn = KNeighborsClassifier(n_neighbors=i, weights='distance')\n",
    "        else:\n",
    "            cknn = KNeighborsClassifier(n_neighbors=i)\n",
    "        cknn.fit(X_train, Y_train)\n",
    "        test_accur = eval_model(cknn, X_train, Y_train, X_val, Y_val, False)\n",
    "        if(x == 0):\n",
    "            test_accuracy[i, \"Dist\"] = (test_accur)\n",
    "        else:\n",
    "            test_accuracy[i, \"No Dist\"] = (test_accur)\n",
    "\n",
    "print(test_accuracy)\n",
    "import operator\n",
    "max(test_accuracy.items(), key=operator.itemgetter(1))[0]"
   ]
  },
  {
   "cell_type": "code",
   "execution_count": 74,
   "metadata": {},
   "outputs": [
    {
     "data": {
      "text/plain": [
       "{'n_neighbors': 1}"
      ]
     },
     "execution_count": 74,
     "metadata": {},
     "output_type": "execute_result"
    }
   ],
   "source": [
    "from sklearn.model_selection import GridSearchCV\n",
    "#create new a knn model\n",
    "knn2 = KNeighborsClassifier()\n",
    "#create a dictionary of all values we want to test for n_neighbors\n",
    "param_grid = {'n_neighbors': np.arange(1, 25)}\n",
    "#use gridsearch to test all values for n_neighbors\n",
    "knn_gscv = GridSearchCV(knn2, param_grid, cv=5)\n",
    "#fit model to data\n",
    "knn_gscv.fit(X_train, Y_train)\n",
    "#check top performing n_neighbors value\n",
    "knn_gscv.best_params_"
   ]
  },
  {
   "cell_type": "code",
   "execution_count": null,
   "metadata": {},
   "outputs": [],
   "source": [
    "from sklearn.model_selection import cross_val_score\n",
    "import numpy as np\n",
    "#create a new KNN model\n",
    "knn_cv = KNeighborsClassifier(n_neighbors=3)\n",
    "#train model with cv of 5 \n",
    "cv_scores = cross_val_score(knn_cv, X, y, cv=5)\n",
    "#print each cv score (accuracy) and average them\n",
    "print(cv_scores)\n",
    "print(‘cv_scores mean:{}’.format(np.mean(cv_scores)))"
   ]
  }
 ],
 "metadata": {
  "kernelspec": {
   "display_name": "Python 3",
   "language": "python",
   "name": "python3"
  },
  "language_info": {
   "codemirror_mode": {
    "name": "ipython",
    "version": 3
   },
   "file_extension": ".py",
   "mimetype": "text/x-python",
   "name": "python",
   "nbconvert_exporter": "python",
   "pygments_lexer": "ipython3",
   "version": "3.8.2"
  }
 },
 "nbformat": 4,
 "nbformat_minor": 4
}
