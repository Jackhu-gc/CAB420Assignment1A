{
 "cells": [
  {
   "cell_type": "code",
   "execution_count": 3,
   "metadata": {},
   "outputs": [
    {
     "name": "stdout",
     "output_type": "stream",
     "text": [
      "b'Hello, TensorFlow!'\n"
     ]
    }
   ],
   "source": [
    "import tensorflow as tf\n",
    "\n",
    "tf.compat.v1.disable_eager_execution()\n",
    "\n",
    "hello = tf.constant('Hello, TensorFlow!')\n",
    "\n",
    "sess = tf.compat.v1.Session()\n",
    "\n",
    "print(sess.run(hello))"
   ]
  },
  {
   "cell_type": "code",
   "execution_count": null,
   "metadata": {},
   "outputs": [],
   "source": [
    "# outputs = layers.Input(shape=(32, 32, 3))(model.layers[-2].output)\n",
    "# new_model = keras.Model(inputs=model.input, outputs=outputs)\n",
    "\n",
    "# new_model.summary()\n",
    "\n",
    "\n",
    "# print(model.input)\n",
    "#code taken from here https://medium.com/@ckyrkou/changing-input-size-of-pre-trained-models-in-keras-3dfbe3ca3091\n",
    "# def change_model(model, new_input_shape=(None, 32, 32, 3)):\n",
    "#     # replace input shape of first layer\n",
    "#     model._layers[0].batch_input_shape = new_input_shape\n",
    "#     # rebuild model architecture by exporting and importing via json\n",
    "#     new_model = model\n",
    "\n",
    "\n",
    "#     # copy weights from old model to new one\n",
    "#     for layer in new_model.layers:\n",
    "#         try:\n",
    "#             layer.set_weights(model.get_layer(name=layer.name).get_weights())\n",
    "#             print(\"Loaded layer {}\".format(layer.name))\n",
    "#         except:\n",
    "#             print(\"Could not transfer weights for layer {}\".format(layer.name))\n",
    "\n",
    "#     return new_model\n",
    "\n",
    "\n",
    "train_trim = numpy.array(train)\n",
    "\n",
    "\n",
    "for i,elem1 in enumerate(train_trim[:2]):\n",
    "    for x,elem2 in enumerate(elem1[:2]):\n",
    "        for y,elem3 in enumerate(elem2[:2]):    \n",
    "            average = round(numpy.sum(elem3)/3)\n",
    "            train_trim[i,x,y] = [average]\n",
    "\n",
    "train_trim = train_trim[:,:,:,2:]\n",
    "\n",
    "\n",
    "for i in train_trim:\n",
    "    width = 28\n",
    "    height = 28\n",
    "    dim = (width, height)\n",
    "    resized = cv2.resize(i, dim, interpolation = cv2.INTER_AREA)\n",
    "    \n",
    "figs = plt.figure(figsize=[100, 100])\n",
    "ax = figs.add_subplot(10, 10, 1)\n",
    "ax.imshow(resized)    \n",
    "\n",
    "\n",
    "# figs1 = plt.figure(figsize=[100, 100])\n",
    "# ax = figs1.add_subplot(10, 10, 1)\n",
    "# ax.imshow(i[:])"
   ]
  }
 ],
 "metadata": {
  "kernelspec": {
   "display_name": "Python 3",
   "language": "python",
   "name": "python3"
  },
  "language_info": {
   "codemirror_mode": {
    "name": "ipython",
    "version": 3
   },
   "file_extension": ".py",
   "mimetype": "text/x-python",
   "name": "python",
   "nbconvert_exporter": "python",
   "pygments_lexer": "ipython3",
   "version": "3.7.7"
  }
 },
 "nbformat": 4,
 "nbformat_minor": 4
}
