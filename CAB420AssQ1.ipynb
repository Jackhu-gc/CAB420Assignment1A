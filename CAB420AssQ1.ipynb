{
 "cells": [
  {
   "cell_type": "code",
   "execution_count": 7,
   "metadata": {},
   "outputs": [],
   "source": [
    "\n",
    "# numpy handles pretty much anything that is a number/vector/matrix/array\n",
    "import numpy as np\n",
    "# pandas handles dataframes (exactly the same as tables in Matlab)\n",
    "import pandas as pd\n",
    "# matplotlib emulates Matlabs plotting functionality\n",
    "import matplotlib.pyplot as plt\n",
    "# stats models is a package that is going to perform the regression analysis\n",
    "from statsmodels import api as sm\n",
    "from scipy import stats\n",
    "from sklearn.metrics import mean_squared_error\n",
    "# os allows us to manipulate variables on out local machine, such as paths and environment variables\n",
    "import os\n",
    "# self explainatory, dates and times\n",
    "from datetime import datetime, date\n",
    "# a helper package to help us iterate over objects\n",
    "import itertools"
   ]
  },
  {
   "cell_type": "markdown",
   "metadata": {},
   "source": [
    "# Loading and Transforming Data "
   ]
  },
  {
   "cell_type": "code",
   "execution_count": 8,
   "metadata": {},
   "outputs": [
    {
     "name": "stdout",
     "output_type": "stream",
     "text": [
      "    state   county   community   communityname string   fold    population   \\\n",
      "0        8        ?           ?          Lakewoodcity       1          0.19   \n",
      "1       53        ?           ?           Tukwilacity       1          0.00   \n",
      "2       24        ?           ?          Aberdeentown       1          0.00   \n",
      "3       34        5       81440   Willingborotownship       1          0.04   \n",
      "4       42       95        6096     Bethlehemtownship       1          0.01   \n",
      "\n",
      "    householdsize    racepctblack    racePctWhite    racePctAsian   ...  \\\n",
      "0             0.33            0.02            0.90            0.12  ...   \n",
      "1             0.16            0.12            0.74            0.45  ...   \n",
      "2             0.42            0.49            0.56            0.17  ...   \n",
      "3             0.77            1.00            0.08            0.12  ...   \n",
      "4             0.55            0.02            0.95            0.09  ...   \n",
      "\n",
      "    LandArea    PopDens    PctUsePubTrans    PolicCars    PolicOperBudg   \\\n",
      "0        0.12       0.26              0.20         0.06             0.04   \n",
      "1        0.02       0.12              0.45            ?                ?   \n",
      "2        0.01       0.21              0.02            ?                ?   \n",
      "3        0.02       0.39              0.28            ?                ?   \n",
      "4        0.04       0.09              0.02            ?                ?   \n",
      "\n",
      "    LemasPctPolicOnPatr    LemasGangUnitDeploy    LemasPctOfficDrugUn   \\\n",
      "0                    0.9                    0.5                   0.32   \n",
      "1                      ?                      ?                   0.00   \n",
      "2                      ?                      ?                   0.00   \n",
      "3                      ?                      ?                   0.00   \n",
      "4                      ?                      ?                   0.00   \n",
      "\n",
      "    PolicBudgPerPop    ViolentCrimesPerPop   \n",
      "0               0.14                   0.20  \n",
      "1                  ?                   0.67  \n",
      "2                  ?                   0.43  \n",
      "3                  ?                   0.12  \n",
      "4                  ?                   0.03  \n",
      "\n",
      "[5 rows x 128 columns]\n",
      "Number of ?: 1675 \n",
      "Total number of rows: 1994 \n",
      "Rows containing data: 319\n"
     ]
    }
   ],
   "source": [
    "#Removing whitespaces\n",
    "communitydata.rename(columns=lambda x: x.strip(), inplace=True)\n",
    "communitydata = communitydata.rename(columns=lambda x: x.strip())\n",
    "#counting Questionmarks\n",
    "questionmark_count = communitydata['PctPolicWhite'].value_counts()['?']\n",
    "num_rows, num_cols = communitydata.shape\n",
    "print(\"Number of ?:\", questionmark_count, \"\\nTotal number of rows:\", num_rows, \"\\nRows containing data:\" ,\n",
    "      num_rows - questionmark_count)\n",
    "\n",
    "# Y = wine['ViolentCrimesPerPop']\n",
    "# X_train,X_test, Y_train,  Y_test = train_test_split(X,Y,test_size=0.3, random_state=4)"
   ]
  },
  {
   "cell_type": "markdown",
   "metadata": {},
   "source": []
  },
  {
   "cell_type": "code",
   "execution_count": 11,
   "metadata": {},
   "outputs": [
    {
     "name": "stdout",
     "output_type": "stream",
     "text": [
      "['state', 'county', 'community', 'communityname string', 'fold', 'population', 'householdsize', 'racepctblack', 'racePctWhite', 'racePctAsian', 'racePctHisp', 'agePct12t21', 'agePct12t29', 'agePct16t24', 'agePct65up', 'numbUrban', 'pctUrban', 'medIncome', 'pctWWage', 'pctWFarmSelf', 'pctWInvInc', 'pctWSocSec', 'pctWPubAsst', 'pctWRetire', 'medFamInc', 'perCapInc', 'whitePerCap', 'blackPerCap', 'indianPerCap', 'AsianPerCap', 'OtherPerCap', 'HispPerCap', 'NumUnderPov', 'PctPopUnderPov', 'PctLess9thGrade', 'PctNotHSGrad', 'PctBSorMore', 'PctUnemployed', 'PctEmploy', 'PctEmplManu', 'PctEmplProfServ', 'PctOccupManu', 'PctOccupMgmtProf', 'MalePctDivorce', 'MalePctNevMarr', 'FemalePctDiv', 'TotalPctDiv', 'PersPerFam', 'PctFam2Par', 'PctKids2Par', 'PctYoungKids2Par', 'PctTeen2Par', 'PctWorkMomYoungKids', 'PctWorkMom', 'NumIlleg', 'PctIlleg', 'NumImmig', 'PctImmigRecent', 'PctImmigRec5', 'PctImmigRec8', 'PctImmigRec10', 'PctRecentImmig', 'PctRecImmig5', 'PctRecImmig8', 'PctRecImmig10', 'PctSpeakEnglOnly', 'PctNotSpeakEnglWell', 'PctLargHouseFam', 'PctLargHouseOccup', 'PersPerOccupHous', 'PersPerOwnOccHous', 'PersPerRentOccHous', 'PctPersOwnOccup', 'PctPersDenseHous', 'PctHousLess3BR', 'MedNumBR', 'HousVacant', 'PctHousOccup', 'PctHousOwnOcc', 'PctVacantBoarded', 'PctVacMore6Mos', 'MedYrHousBuilt', 'PctHousNoPhone', 'PctWOFullPlumb', 'OwnOccLowQuart', 'OwnOccMedVal', 'OwnOccHiQuart', 'RentLowQ', 'RentMedian', 'RentHighQ', 'MedRent', 'MedRentPctHousInc', 'MedOwnCostPctInc', 'MedOwnCostPctIncNoMtg', 'NumInShelters', 'NumStreet', 'PctForeignBorn', 'PctBornSameState', 'PctSameHouse85', 'PctSameCity85', 'PctSameState85', 'LemasSwornFT', 'LemasSwFTPerPop', 'LemasSwFTFieldOps', 'LemasSwFTFieldPerPop', 'LemasTotalReq', 'LemasTotReqPerPop', 'PolicReqPerOffic', 'PolicPerPop', 'RacialMatchCommPol', 'PctPolicWhite', 'PctPolicBlack', 'PctPolicHisp', 'PctPolicAsian', 'PctPolicMinor', 'OfficAssgnDrugUnits', 'NumKindsDrugsSeiz', 'PolicAveOTWorked', 'LandArea', 'PopDens', 'PctUsePubTrans', 'PolicCars', 'PolicOperBudg', 'LemasPctPolicOnPatr', 'LemasGangUnitDeploy', 'LemasPctOfficDrugUn', 'PolicBudgPerPop', 'ViolentCrimesPerPop']\n"
     ]
    }
   ],
   "source": [
    "#Get all columns\n",
    "column_names = communitydata.columns\n",
    "print(list(column_names))"
   ]
  },
  {
   "cell_type": "code",
   "execution_count": null,
   "metadata": {},
   "outputs": [],
   "source": []
  },
  {
   "cell_type": "code",
   "execution_count": null,
   "metadata": {},
   "outputs": [],
   "source": []
  }
 ],
 "metadata": {
  "kernelspec": {
   "display_name": "Python 3",
   "language": "python",
   "name": "python3"
  },
  "language_info": {
   "codemirror_mode": {
    "name": "ipython",
    "version": 3
   },
   "file_extension": ".py",
   "mimetype": "text/x-python",
   "name": "python",
   "nbconvert_exporter": "python",
   "pygments_lexer": "ipython3",
   "version": "3.8.2"
  }
 },
 "nbformat": 4,
 "nbformat_minor": 4
}
